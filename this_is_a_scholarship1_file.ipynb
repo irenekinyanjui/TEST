{
  "nbformat": 4,
  "nbformat_minor": 0,
  "metadata": {
    "colab": {
      "name": "this is a scholarship1 file.ipynb",
      "provenance": [],
      "toc_visible": true,
      "authorship_tag": "ABX9TyPm9312BwgxVKdHShNCRM0k",
      "include_colab_link": true
    },
    "kernelspec": {
      "name": "python3",
      "display_name": "Python 3"
    }
  },
  "cells": [
    {
      "cell_type": "markdown",
      "metadata": {
        "id": "view-in-github",
        "colab_type": "text"
      },
      "source": [
        "<a href=\"https://colab.research.google.com/github/irenekinyanjui/TEST/blob/main/this_is_a_scholarship1_file.ipynb\" target=\"_parent\"><img src=\"https://colab.research.google.com/assets/colab-badge.svg\" alt=\"Open In Colab\"/></a>"
      ]
    },
    {
      "cell_type": "code",
      "metadata": {
        "colab": {
          "base_uri": "https://localhost:8080/",
          "height": 129
        },
        "id": "xTDQ9vCUlmUw",
        "outputId": "1b78131d-05a4-40f4-e2ae-7584950183b2"
      },
      "source": [
        "\n",
        "import datetime\n",
        "from typing import List, Any, Union\n",
        "\n",
        "genderIsFemale = True\n",
        "genderIsMale = True\n",
        "continentIs_Africa = True\n",
        "countryCode = 25\n",
        "\n",
        "\n",
        "gender = []\n",
        "gender = input('Enter your gender')\n",
        "\n",
        "\n",
        "\n",
        "\n",
        "#number List [78,90,88,87]\n",
        "numberList = []\n",
        "n = int(input(\"Enter how many Quizzes were taken:\"))\n",
        "print('\\n')\n",
        "for i in range(0,n):\n",
        "    print('Enter the grade Quiz',i+1,':')\n",
        "    item = int(input('Enter quiz:'))\n",
        "    numberList.append(item)\n",
        "average = sum(numberList)/len(numberList)\n",
        "print('The average grade score'+str(round(average,0)))\n",
        "\n",
        "\n",
        "# Enter birthdate in yyyy,mm,dd format.\n",
        "birthYear = int(input('Enter Your Birth Year:'))\n",
        "age = datetime.datetime.now().year - birthYear\n",
        "print(age)\n",
        "dict_sample = {1: {'244':'Angola','237':'Cameroon','254':'Kenya','255':'Tanzania','256':'Uganda'}\n",
        "\n",
        "\n",
        "#if \"name\" in this_country:\n",
        " # print(\"Yes, country 'name' is one of the keys in the this_country dictionary\")\n",
        "\n",
        "#key = '25'\n",
        "\n",
        "  #  check if key in dict using \"in\"\n",
        "#if key in this_country:\n",
        "    #print(f\"Yes, key: '{25}' exists in dictionary\")\n",
        "#else:\n",
        "    #print(f\"No, key: '{25}' does not exists in dictionary\")\n",
        "\n",
        "\n",
        "\n",
        "\n",
        "if age>=20 and average>=75 \n",
        "  print('You qualify for the Scholarship')\n",
        "else:\n",
        "    print('Sorry You did not qualify for the Scholarship')\n",
        "if average>=80 and genderIsMale:\n",
        "    print('He qualifies for Scholarship')\n",
        "else:\n",
        "    ('He does not qualify for the Scolarship')\n"
      ],
      "execution_count": null,
      "outputs": [
        {
          "output_type": "error",
          "ename": "SyntaxError",
          "evalue": "ignored",
          "traceback": [
            "\u001b[0;36m  File \u001b[0;32m\"<ipython-input-8-a66e32966d99>\"\u001b[0;36m, line \u001b[0;32m13\u001b[0m\n\u001b[0;31m    if gender = ('male average is 80')\u001b[0m\n\u001b[0m              ^\u001b[0m\n\u001b[0;31mSyntaxError\u001b[0m\u001b[0;31m:\u001b[0m invalid syntax\n"
          ]
        }
      ]
    }
  ]
}